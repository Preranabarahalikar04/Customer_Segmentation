{
  "nbformat": 4,
  "nbformat_minor": 0,
  "metadata": {
    "colab": {
      "provenance": [],
      "authorship_tag": "ABX9TyOsXBboGVZg0xXBY1fgQFNE",
      "include_colab_link": true
    },
    "kernelspec": {
      "name": "python3",
      "display_name": "Python 3"
    },
    "language_info": {
      "name": "python"
    }
  },
  "cells": [
    {
      "cell_type": "markdown",
      "metadata": {
        "id": "view-in-github",
        "colab_type": "text"
      },
      "source": [
        "<a href=\"https://colab.research.google.com/github/Preranabarahalikar04/Customer_Segmentation/blob/main/Customer_Segmentation_using_Machine_learning.ipynb\" target=\"_parent\"><img src=\"https://colab.research.google.com/assets/colab-badge.svg\" alt=\"Open In Colab\"/></a>"
      ]
    },
    {
      "cell_type": "code",
      "execution_count": null,
      "metadata": {
        "id": "yVDzvAcLusL9"
      },
      "outputs": [],
      "source": [
        "import pandas as pd"
      ]
    },
    {
      "cell_type": "code",
      "source": [
        "data = pd.read_csv('/content/Mall_Customers.csv')"
      ],
      "metadata": {
        "id": "SlFkidAovRze"
      },
      "execution_count": null,
      "outputs": []
    },
    {
      "cell_type": "markdown",
      "source": [
        "Display Top 5 rows of the dataset"
      ],
      "metadata": {
        "id": "S8RUDCu5vmki"
      }
    },
    {
      "cell_type": "code",
      "source": [
        "data.head()"
      ],
      "metadata": {
        "id": "Hyk8iWWFvq79"
      },
      "execution_count": null,
      "outputs": []
    },
    {
      "cell_type": "markdown",
      "source": [
        "Check Last 5 Rows of the dataset"
      ],
      "metadata": {
        "id": "7lUde5i6vx3F"
      }
    },
    {
      "cell_type": "code",
      "source": [
        "data.tail()"
      ],
      "metadata": {
        "id": "VNeHjAUDv2q6"
      },
      "execution_count": null,
      "outputs": []
    },
    {
      "cell_type": "markdown",
      "source": [
        "Find Shape of our dataset(number of rows and number of columns)"
      ],
      "metadata": {
        "id": "Wk77RM0KwE_i"
      }
    },
    {
      "cell_type": "code",
      "source": [
        "data.shape"
      ],
      "metadata": {
        "id": "rar404JZwMTF"
      },
      "execution_count": null,
      "outputs": []
    },
    {
      "cell_type": "code",
      "source": [
        "print(\"Number of Rows\",data.shape[0])\n",
        "print(\"Number of Columns\",data.shape[1])"
      ],
      "metadata": {
        "id": "d-75MVmMwTQ_"
      },
      "execution_count": null,
      "outputs": []
    },
    {
      "cell_type": "markdown",
      "source": [
        "Get Information About our dataset like total number rows ,total number of columns,datatypes of each column and memory required"
      ],
      "metadata": {
        "id": "eE5P9FwpwkIc"
      }
    },
    {
      "cell_type": "code",
      "source": [
        "data.info()"
      ],
      "metadata": {
        "id": "MfDLOTgqwxdo"
      },
      "execution_count": null,
      "outputs": []
    },
    {
      "cell_type": "markdown",
      "source": [
        "Check Null Values in the dataset"
      ],
      "metadata": {
        "id": "DE50syPrxCzs"
      }
    },
    {
      "cell_type": "code",
      "source": [
        "data.isnull().sum()"
      ],
      "metadata": {
        "id": "nGUOh3ezxIPH"
      },
      "execution_count": null,
      "outputs": []
    },
    {
      "cell_type": "markdown",
      "source": [
        "Get overall statistics about the dataset"
      ],
      "metadata": {
        "id": "MOQ6jJbKxT3x"
      }
    },
    {
      "cell_type": "code",
      "source": [
        "data.describe()"
      ],
      "metadata": {
        "id": "slkVqDJexYDN"
      },
      "execution_count": null,
      "outputs": []
    },
    {
      "cell_type": "markdown",
      "source": [
        "Kmeans Clustering\n"
      ],
      "metadata": {
        "id": "UIIwzDqHxwJX"
      }
    },
    {
      "cell_type": "code",
      "source": [
        "data.columns"
      ],
      "metadata": {
        "id": "oc4xBJnpxynU"
      },
      "execution_count": null,
      "outputs": []
    },
    {
      "cell_type": "code",
      "source": [
        "X=data[['Annual Income (k$)','Spending Score (1-100)']]"
      ],
      "metadata": {
        "id": "mbfNqWgNx4N3"
      },
      "execution_count": null,
      "outputs": []
    },
    {
      "cell_type": "code",
      "source": [
        "X"
      ],
      "metadata": {
        "id": "wbcJGQJtyR-I"
      },
      "execution_count": null,
      "outputs": []
    },
    {
      "cell_type": "code",
      "source": [
        "from sklearn.cluster import KMeans"
      ],
      "metadata": {
        "id": "RzWiUouFydvD"
      },
      "execution_count": null,
      "outputs": []
    },
    {
      "cell_type": "code",
      "source": [
        "k_means=KMeans()\n",
        "k_means.fit(X)"
      ],
      "metadata": {
        "id": "G7Sq_gyLykG2"
      },
      "execution_count": null,
      "outputs": []
    },
    {
      "cell_type": "code",
      "source": [
        "k_means=KMeans(n_clusters=5)\n",
        "k_means.fit_predict(X)"
      ],
      "metadata": {
        "id": "Etfcx_r-y265"
      },
      "execution_count": null,
      "outputs": []
    },
    {
      "cell_type": "markdown",
      "source": [
        "Elbow Method to find Optimal Number of Clusters"
      ],
      "metadata": {
        "id": "yeEyCsmizojZ"
      }
    },
    {
      "cell_type": "code",
      "source": [
        "wcss=[]\n",
        "for i in range(1,11):\n",
        "  k_means= KMeans(n_clusters=i)\n",
        "  k_means.fit(X)\n",
        "  wcss.append(k_means.inertia_)"
      ],
      "metadata": {
        "id": "1eqI9X5ezumy"
      },
      "execution_count": null,
      "outputs": []
    },
    {
      "cell_type": "code",
      "source": [
        "wcss"
      ],
      "metadata": {
        "id": "BSqhtr53zmpK"
      },
      "execution_count": null,
      "outputs": []
    },
    {
      "source": [
        "import matplotlib.pyplot as plt\n",
        "from sklearn.cluster import KMeans\n",
        "\n",
        "wcss = []\n",
        "for i in range(1, 11):  # Extend the range to 20\n",
        "    k_means = KMeans(n_clusters=i)\n",
        "    k_means.fit(X)\n",
        "    wcss.append(k_means.inertia_)\n",
        "\n",
        "# Plot the WCSS values against the number of clusters\n",
        "plt.plot(range(1, 11), wcss)\n",
        "plt.title('Elbow Method')\n",
        "plt.xlabel('Number of Clusters')\n",
        "plt.ylabel('WCSS')\n",
        "plt.show()"
      ],
      "cell_type": "code",
      "metadata": {
        "id": "iIA3zkTy2R5J"
      },
      "execution_count": null,
      "outputs": []
    },
    {
      "cell_type": "markdown",
      "source": [
        "Model Training"
      ],
      "metadata": {
        "id": "ToDh6ARt28HT"
      }
    },
    {
      "cell_type": "code",
      "source": [
        "X=data[['Annual Income (k$)','Spending Score (1-100)']]"
      ],
      "metadata": {
        "id": "0abBuEw42-L2"
      },
      "execution_count": null,
      "outputs": []
    },
    {
      "cell_type": "code",
      "source": [
        "print(X)"
      ],
      "metadata": {
        "id": "KXecCqQp3QWo"
      },
      "execution_count": null,
      "outputs": []
    },
    {
      "cell_type": "code",
      "source": [
        "k_means = KMeans(n_clusters=5,random_state=42)\n",
        "y_means = k_means.fit_predict(X)"
      ],
      "metadata": {
        "id": "7AIC_nkT3U0l"
      },
      "execution_count": null,
      "outputs": []
    },
    {
      "cell_type": "code",
      "source": [
        "y_means"
      ],
      "metadata": {
        "id": "A2qZ1lZq3t5P"
      },
      "execution_count": null,
      "outputs": []
    },
    {
      "source": [
        "plt.scatter(X.iloc[y_means==0,0],X.iloc[y_means==0,1],s=100,c='red',label=\"Cluster 1\")\n",
        "plt.scatter(X.iloc[y_means==1,0],X.iloc[y_means==1,1],s=100,c='blue',label=\"Cluster 2\")\n",
        "plt.scatter(X.iloc[y_means==2,0],X.iloc[y_means==2,1],s=100,c='green',label=\"Cluster 3\")\n",
        "plt.scatter(X.iloc[y_means==3,0],X.iloc[y_means==3,1],s=100,c='cyan',label=\"Cluster 4\")\n",
        "plt.scatter(X.iloc[y_means==4,0],X.iloc[y_means==4,1],s=100,c='magenta',label=\"Cluster 5\")\n",
        "plt.scatter(k_means.cluster_centers_[:,0], k_means.cluster_centers_[:,1], s=300, c='yellow', label='Centroids')\n",
        "plt.title('Clusters of Customers')\n",
        "plt.xlabel('Annual Income (k$)')\n",
        "plt.ylabel('Spending Score (1-100)')\n",
        "plt.legend()\n",
        "plt.show()"
      ],
      "cell_type": "code",
      "metadata": {
        "id": "CpDXH-jm5P1c"
      },
      "execution_count": null,
      "outputs": []
    },
    {
      "cell_type": "code",
      "source": [
        "k_means.predict([[15,39]])"
      ],
      "metadata": {
        "id": "hjqnc8dF5xY1"
      },
      "execution_count": null,
      "outputs": []
    },
    {
      "cell_type": "markdown",
      "source": [
        "Save the model"
      ],
      "metadata": {
        "id": "Ql637DB96RG3"
      }
    },
    {
      "cell_type": "code",
      "source": [
        "import joblib"
      ],
      "metadata": {
        "id": "1crY6Rcy6S6B"
      },
      "execution_count": null,
      "outputs": []
    },
    {
      "cell_type": "code",
      "source": [
        "joblib.dump(k_means,\"customer_segmentation\")"
      ],
      "metadata": {
        "id": "yqDq183n6Y69"
      },
      "execution_count": null,
      "outputs": []
    },
    {
      "cell_type": "code",
      "source": [
        "model = joblib.load(\"customer_segmentation\")"
      ],
      "metadata": {
        "id": "j1YF-9df6j5r"
      },
      "execution_count": null,
      "outputs": []
    },
    {
      "cell_type": "code",
      "source": [
        "model.predict([[15,39]])"
      ],
      "metadata": {
        "id": "8TxnAzDr62Cw"
      },
      "execution_count": null,
      "outputs": []
    },
    {
      "cell_type": "markdown",
      "source": [
        "GUI"
      ],
      "metadata": {
        "id": "pD2zUqSK7CWS"
      }
    },
    {
      "source": [
        "import streamlit as st\n",
        "import joblib\n",
        "import numpy as np\n",
        "import pandas as pd\n",
        "from sklearn.preprocessing import StandardScaler # import StandardScaler\n",
        "from sklearn.cluster import KMeans\n",
        "\n",
        "# Load the dataset (replace 'your_dataset.csv' with the actual path)\n",
        "data = pd.read_csv('/content/Mall_Customers.csv')  # Assuming this is your data loading step\n",
        "\n",
        "# Define X with the features\n",
        "X = data[['Annual Income (k$)', 'Spending Score (1-100)']] # Define X here\n",
        "\n",
        "# Create a StandardScaler instance\n",
        "scaler = StandardScaler()\n",
        "\n",
        "# Fit the scaler to your data and transform\n",
        "X_scaled = scaler.fit_transform(X)\n",
        "\n",
        "# Now, fit your KMeans model to the scaled data\n",
        "k_means = KMeans(n_clusters=5, random_state=42)\n",
        "y_means = k_means.fit_predict(X_scaled)\n",
        "\n",
        "# Save your scaler object\n",
        "joblib.dump(scaler, 'scaler.pkl')\n",
        "\n",
        "# Save the model\n",
        "joblib.dump(k_means, \"customer_segmentation\")\n",
        "\n",
        "#Load the model and scaler\n",
        "model = joblib.load('customer_segmentation')\n",
        "scaler = joblib.load('scaler.pkl')\n",
        "\n",
        "st.title(\"Customer Segmentation\")\n",
        "\n",
        "income = st.slider(\"Annual Income (k$)\", 0, 150, 50)\n",
        "score = st.slider(\"Spending Score (1-100)\", 1, 100, 50)\n",
        "\n",
        "if st.button(\"Predict\"):\n",
        "    # Create a feature vector with the input values\n",
        "    features = np.array([[income, score]])\n",
        "\n",
        "    # Scale the feature vector using the loaded scaler\n",
        "    features_scaled = scaler.transform(features)\n",
        "\n",
        "    # Predict the cluster for the scaled features\n",
        "    cluster = model.predict(features_scaled)[0]\n",
        "\n",
        "    st.write(f\"### This customer belongs to cluster: {cluster}\")"
      ],
      "cell_type": "code",
      "metadata": {
        "id": "qXn8DzbME6ko"
      },
      "execution_count": null,
      "outputs": []
    },
    {
      "source": [
        "from ipywidgets import interact\n",
        "import joblib\n",
        "import numpy as np\n",
        "\n",
        "# Load model\n",
        "model = joblib.load('customer_segmentation') # Changed filename here\n",
        "scaler = joblib.load('scaler.pkl') # Changed filename here\n",
        "\n",
        "def predict_cluster(income, score):\n",
        "    features = np.array([[income, score]])\n",
        "    scaled = scaler.transform(features)\n",
        "    cluster = model.predict(scaled)[0]\n",
        "    print(f\"This customer belongs to cluster: {cluster}\")\n",
        "\n",
        "interact(predict_cluster, income=(0,150), score=(1,100));"
      ],
      "cell_type": "code",
      "metadata": {
        "id": "UkVtcKzNFUHI"
      },
      "execution_count": null,
      "outputs": []
    },
    {
      "cell_type": "markdown",
      "source": [],
      "metadata": {
        "id": "OE5x7h2QJXw6"
      }
    }
  ]
}